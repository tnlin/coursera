{
 "cells": [
  {
   "cell_type": "code",
   "execution_count": 136,
   "metadata": {
    "collapsed": false
   },
   "outputs": [],
   "source": [
    "import numpy as np\n",
    "from scipy.optimize import minimize\n",
    "from sklearn.preprocessing import PolynomialFeatures\n",
    "import matplotlib.pyplot as plt"
   ]
  },
  {
   "cell_type": "code",
   "execution_count": 137,
   "metadata": {
    "collapsed": false
   },
   "outputs": [],
   "source": [
    "arr = np.loadtxt(\"data2.txt\", delimiter=',')\n",
    "x = arr[:,:-1]\n",
    "y = arr[:,-1:]\n",
    "# Append ones for gradient descent\n",
    "#X = np.c_[ np.ones(x.shape[0]), x ]\n",
    "poly = PolynomialFeatures(6)\n",
    "X = poly.fit_transform(x)"
   ]
  },
  {
   "cell_type": "code",
   "execution_count": 138,
   "metadata": {
    "collapsed": false,
    "scrolled": false
   },
   "outputs": [],
   "source": [
    "def plotData(x, y):\n",
    "    plt.ylabel(\"Microchip Test 2\")\n",
    "    plt.xlabel(\"Microchip Test 1\")\n",
    "    pos = (y==1).nonzero()[:1]\n",
    "    neg = (y==0).nonzero()[:1]\n",
    "\n",
    "    plt.plot(x[pos, 0].T, x[pos, 1].T, 'bx', label=\"y=1\")\n",
    "    plt.plot(x[neg, 0].T, x[neg, 1].T, 'rx', label=\"y=0\")\n",
    "    plt.legend(frameon= True, fancybox = True)"
   ]
  },
  {
   "cell_type": "code",
   "execution_count": 139,
   "metadata": {
    "collapsed": false
   },
   "outputs": [],
   "source": [
    "def sigmoid(z):\n",
    "    return 1 / (1 + np.exp(-z))"
   ]
  },
  {
   "cell_type": "code",
   "execution_count": 140,
   "metadata": {
    "collapsed": false
   },
   "outputs": [],
   "source": [
    "def costFunctionReg(theta, lmd, X, y):\n",
    "    m = y.size\n",
    "    h = sigmoid(X.dot(theta))\n",
    "\n",
    "    # Regulation \n",
    "    reg = lmd / (2*m) * np.square(theta[1:]).sum()\n",
    "    sigma = np.log(h).dot(-y) - np.log(1-h).dot(1-y)\n",
    "    J = 1/m * sigma + reg\n",
    "\n",
    "    return J[0]"
   ]
  },
  {
   "cell_type": "code",
   "execution_count": 141,
   "metadata": {
    "collapsed": true
   },
   "outputs": [],
   "source": [
    "def gradientReg(theta, reg, *args):\n",
    "    m = y.size\n",
    "    h = sigmoid(X.dot(theta.reshape(-1,1)))\n",
    "    \n",
    "    grad = (1/m)*X.T.dot(h-y) + (reg/m)*np.r_[ [[0]],theta[1:].reshape(-1,1)]\n",
    "    return(grad.flatten())"
   ]
  },
  {
   "cell_type": "code",
   "execution_count": 142,
   "metadata": {
    "collapsed": false,
    "scrolled": true
   },
   "outputs": [],
   "source": [
    "def predict(theta, X, threshold=0.5):\n",
    "    return sigmoid(X.dot(theta.T)) >= threshold"
   ]
  },
  {
   "cell_type": "code",
   "execution_count": 143,
   "metadata": {
    "collapsed": false
   },
   "outputs": [
    {
     "data": {
      "text/plain": [
       "0.69314718055994529"
      ]
     },
     "execution_count": 143,
     "metadata": {},
     "output_type": "execute_result"
    },
    {
     "data": {
      "image/png": "[encoded data removed]",
      "text/plain": [
       "<matplotlib.figure.Figure at 0x10eee3710>"
      ]
     },
     "metadata": {},
     "output_type": "display_data"
    }
   ],
   "source": [
    "%matplotlib inline\n",
    "# Plot Data\n",
    "plotData(x, y)\n",
    "\n",
    "# Test Cost Function\n",
    "initial_theta = np.zeros(X.shape[1])\n",
    "costFunctionReg(initial_theta, 1, X, y)"
   ]
  },
  {
   "cell_type": "code",
   "execution_count": 144,
   "metadata": {
    "collapsed": false,
    "scrolled": true
   },
   "outputs": [
    {
     "name": "stdout",
     "output_type": "stream",
     "text": [
      "Train accuracy 91.53% with Lambda = 0\n",
      "Train accuracy 83.05% with Lambda = 1\n",
      "Train accuracy 61.02% with Lambda = 100\n"
     ]
    }
   ],
   "source": [
    "# Lambda = 0 : No regularization --> over fitting\n",
    "# Lambda = 1 : Just fine\n",
    "# Lambda = 100 : Too much regularization --> high bias\n",
    "\n",
    "for i, C in enumerate([0, 1, 100]):\n",
    "    # Optimize costFunctionReg\n",
    "    result = minimize(costFunctionReg, initial_theta, args=(C, X, y), method=None, jac=gradientReg, options={'maxiter':3000})\n",
    "    # Accuracy\n",
    "    accuracy = 100*sum(predict(result.x, X) == y.ravel())/y.size    \n",
    "    print('Train accuracy {}% with Lambda = {}'.format(np.round(accuracy, decimals=2), C))"
   ]
  },
  {
   "cell_type": "code",
   "execution_count": null,
   "metadata": {
    "collapsed": true
   },
   "outputs": [],
   "source": []
  }
 ],
 "metadata": {
  "kernelspec": {
   "display_name": "Python 3",
   "language": "python",
   "name": "python3"
  },
  "language_info": {
   "codemirror_mode": {
    "name": "ipython",
    "version": 3
   },
   "file_extension": ".py",
   "mimetype": "text/x-python",
   "name": "python",
   "nbconvert_exporter": "python",
   "pygments_lexer": "ipython3",
   "version": "3.5.0"
  }
 },
 "nbformat": 4,
 "nbformat_minor": 0
}
